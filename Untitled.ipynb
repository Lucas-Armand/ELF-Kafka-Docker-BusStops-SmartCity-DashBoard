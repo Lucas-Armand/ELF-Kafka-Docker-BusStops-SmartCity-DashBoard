{
 "cells": [
  {
   "cell_type": "markdown",
   "id": "202298e9",
   "metadata": {},
   "source": [
    "# Next Steps\n",
    "\n",
    "Nesse documento vou colocar quais seriam meus próximos passos no desenvolvimento da minha plataforma de smart city."
   ]
  },
  {
   "cell_type": "markdown",
   "id": "9ce82c1d",
   "metadata": {},
   "source": [
    "# Criando uma simulação\n",
    "\n",
    "para ilustrar os tipos de análise que poderiamos acoplar numa plataforma de gestão de cidade inteligentes. Farei uma pequena simulação simplificada para gerar dados.\n",
    "\n",
    "Tomarei como modelo uma grid 20x20 qu representa as ruas de uma cidade teórica com quarteirões perfeitamente quadrados. \n",
    "\n",
    "Nessa cidade existem N rotas de onibus. Cada rota de onibus é um percurso através das ruas da cidade. Cada rota tem dois pontos de partida/chegada e onibus sempre volta pela mesma rota depois de ter chegado ao final. Cada \"esquina\" é um ponto que serve para todos os sentidos. \n",
    "\n",
    "Cada ponto tem uma certa taxa de chegada de pessoas. As pessoas aparecem com 50% de chance de ir para daca direção.\n",
    "quando uma pessoa entra no onibus ela tem uma certa probabilidade \"p\" de descer no próximo ponto. Nos pontos finais todos são obrigados a descer. \n"
   ]
  },
  {
   "cell_type": "code",
   "execution_count": null,
   "id": "f19c98e8",
   "metadata": {},
   "outputs": [],
   "source": []
  },
  {
   "cell_type": "code",
   "execution_count": null,
   "id": "0895ce1f",
   "metadata": {},
   "outputs": [],
   "source": []
  }
 ],
 "metadata": {
  "kernelspec": {
   "display_name": "Python 3",
   "language": "python",
   "name": "python3"
  },
  "language_info": {
   "codemirror_mode": {
    "name": "ipython",
    "version": 3
   },
   "file_extension": ".py",
   "mimetype": "text/x-python",
   "name": "python",
   "nbconvert_exporter": "python",
   "pygments_lexer": "ipython3",
   "version": "3.8.8"
  }
 },
 "nbformat": 4,
 "nbformat_minor": 5
}
